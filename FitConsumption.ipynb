{
 "cells": [
  {
   "cell_type": "code",
   "execution_count": 2,
   "metadata": {},
   "outputs": [],
   "source": [
    "import numpy as np\n",
    "import matplotlib.pyplot as plt"
   ]
  },
  {
   "cell_type": "code",
   "execution_count": 69,
   "metadata": {},
   "outputs": [],
   "source": [
    "X = np.array([\n",
    "    [30, 13],\n",
    "    [50, 15.5],\n",
    "    [70, 17],\n",
    "    [90, 19],\n",
    "    [105,21],\n",
    "    [110, 23],\n",
    "    [120, 26],\n",
    "    [130, 31]\n",
    "])\n",
    "x = X[:,0]\n",
    "y_true = X[:,1]"
   ]
  },
  {
   "cell_type": "code",
   "execution_count": 70,
   "metadata": {},
   "outputs": [
    {
     "data": {
      "image/png": "[encoded data removed]",
      "text/plain": [
       "<Figure size 432x288 with 1 Axes>"
      ]
     },
     "metadata": {
      "needs_background": "light"
     },
     "output_type": "display_data"
    }
   ],
   "source": [
    "fig = plt.figure()\n",
    "ax = plt.axes()\n",
    "ax.scatter(x, y_true);"
   ]
  },
  {
   "cell_type": "code",
   "execution_count": 71,
   "metadata": {},
   "outputs": [],
   "source": [
    "(a,b,c) = np.polyfit(x, y_true, 2)\n",
    "y_pred = a*(x**2) + b*x + c"
   ]
  },
  {
   "cell_type": "code",
   "execution_count": 73,
   "metadata": {},
   "outputs": [
    {
     "data": {
      "image/png": "[encoded data removed]",
      "text/plain": [
       "<Figure size 432x288 with 1 Axes>"
      ]
     },
     "metadata": {
      "needs_background": "light"
     },
     "output_type": "display_data"
    }
   ],
   "source": [
    "fig = plt.figure()\n",
    "ax = plt.axes()\n",
    "ax.scatter(x, y_true)\n",
    "ax.plot(x, y_pred);"
   ]
  },
  {
   "cell_type": "code",
   "execution_count": 74,
   "metadata": {},
   "outputs": [
    {
     "data": {
      "text/plain": [
       "(0.001767198580424459, -0.12671223347795096, 16.208785642924134)"
      ]
     },
     "execution_count": 74,
     "metadata": {},
     "output_type": "execute_result"
    }
   ],
   "source": [
    "(a, b, c)"
   ]
  },
  {
   "cell_type": "code",
   "execution_count": 48,
   "metadata": {},
   "outputs": [],
   "source": [
    "def consumption(v):\n",
    "    \"\"\"\n",
    "    Returns the consumption (in kWh) per 100 km, depending on the speed v in km per hour\n",
    "    \"\"\"\n",
    "    return 19.0\n",
    "\n",
    "def battery_safety_level(s, v):\n",
    "    \"\"\"\n",
    "    Returns the minimum battery level to keep for safety.\n",
    "    In case one of the charging points is failing, it is the safety distance to the next charging station\n",
    "    \"\"\"\n",
    "    return (consumption(v)*s)/100\n",
    "\n",
    "def available_distance(e, s, v):\n",
    "    e_safety = battery_safety_level(s, v)\n",
    "    useful_e = (e - e_safety)\n",
    "    if useful_e < 0:\n",
    "        raise ValueError(\"The available battery is below the safety level\")\n",
    "        return None\n",
    "    else:\n",
    "        return (useful_e/consumption(v))*100\n",
    "\n",
    "def charging_time(start, end, power):\n",
    "    \"\"\"\n",
    "    Returns the time needed to charge the car, in hour\n",
    "    Power: kWh per hour, or kW :)\n",
    "    \"\"\"\n",
    "    return (end-start)/power"
   ]
  },
  {
   "cell_type": "code",
   "execution_count": 59,
   "metadata": {},
   "outputs": [],
   "source": [
    "def total_time(d, v, e, s, power):\n",
    "    first_dist_max = available_distance(e, s, v)\n",
    "    if d < first_dist_max:\n",
    "        # No need for charging\n",
    "        return d/v\n",
    "    else:\n",
    "        d_rest = d-first_dist_max\n",
    "        t_per_charge = first_dist_max/v + charging_time(battery_safety_level(s, v), 0.8*e, power)\n",
    "        t_first = (first_dist_max/v) + t_per_charge\n",
    "        d_charge = available_distance(0.8*e, s, v)\n",
    "        n_charges_rest = d_rest//d_charge\n",
    "        #TODO: the last charge should be calibrated to the remaining distance\n",
    "        t_charges_rest = n_charges_rest * t_per_charge\n",
    "        t_total = (d/v) + t_per_charge*(1+n_charges_rest)\n",
    "        return t_total"
   ]
  },
  {
   "cell_type": "code",
   "execution_count": 60,
   "metadata": {},
   "outputs": [],
   "source": [
    "v = 100\n",
    "e = 64\n",
    "s = 60\n",
    "power = 50\n",
    "d_array =np.linspace(250, 650, 20)\n",
    "m = []\n",
    "for d in d_array:\n",
    "    m.append(total_time(d, v, e, s, power))"
   ]
  },
  {
   "cell_type": "code",
   "execution_count": 62,
   "metadata": {},
   "outputs": [],
   "source": [
    "from matplotlib import pyplot as plt"
   ]
  },
  {
   "cell_type": "code",
   "execution_count": 65,
   "metadata": {},
   "outputs": [
    {
     "data": {
      "image/png": "[encoded data removed]",
      "text/plain": [
       "<Figure size 432x288 with 1 Axes>"
      ]
     },
     "metadata": {
      "needs_background": "light"
     },
     "output_type": "display_data"
    }
   ],
   "source": []
  },
  {
   "cell_type": "code",
   "execution_count": null,
   "metadata": {},
   "outputs": [],
   "source": []
  }
 ],
 "metadata": {
  "kernelspec": {
   "display_name": "Python 3",
   "language": "python",
   "name": "python3"
  },
  "language_info": {
   "codemirror_mode": {
    "name": "ipython",
    "version": 3
   },
   "file_extension": ".py",
   "mimetype": "text/x-python",
   "name": "python",
   "nbconvert_exporter": "python",
   "pygments_lexer": "ipython3",
   "version": "3.8.3"
  }
 },
 "nbformat": 4,
 "nbformat_minor": 4
}
